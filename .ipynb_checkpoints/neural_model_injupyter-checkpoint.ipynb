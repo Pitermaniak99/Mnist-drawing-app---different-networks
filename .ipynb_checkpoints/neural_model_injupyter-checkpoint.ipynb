{
 "cells": [
  {
   "cell_type": "code",
   "execution_count": 1,
   "id": "669d1be0",
   "metadata": {},
   "outputs": [],
   "source": [
    "import tensorflow as tf \n",
    "from keras import models \n",
    "from keras.datasets import mnist\n",
    "from keras.layers import Dense, Flatten"
   ]
  },
  {
   "cell_type": "code",
   "execution_count": 11,
   "id": "385a8b4f",
   "metadata": {},
   "outputs": [],
   "source": [
    "(train_images, train_labels), (test_images, test_labels) = mnist.load_data()"
   ]
  },
  {
   "cell_type": "markdown",
   "id": "c105fcdb",
   "metadata": {},
   "source": [
    "Pobrieramy dane z biblioteki MNIST\n",
    "###### Konwersja danych:"
   ]
  },
  {
   "cell_type": "code",
   "execution_count": 12,
   "id": "ee979583",
   "metadata": {},
   "outputs": [],
   "source": [
    "train_images = train_images.reshape((60000, 28, 28, 1))  \n",
    "train_images = train_images.astype('float32') / 255   \n",
    "test_images = test_images.reshape((10000, 28, 28, 1))\n",
    "test_images = test_images.astype('float32') / 255"
   ]
  },
  {
   "cell_type": "markdown",
   "id": "ff2e8bb7",
   "metadata": {},
   "source": [
    "Zmieniamy rozmiar obrazów                                                                                         \n",
    "Skalujemy je do zakresu [0,1], ustawiamy precyzje 32-bitową\n",
    "                                                                                                    \n",
    "Domyślnie tabele przechowujące prawidłowe rozwiązania są zapisane integerem:"
   ]
  },
  {
   "cell_type": "code",
   "execution_count": 13,
   "id": "bd183020",
   "metadata": {
    "scrolled": true
   },
   "outputs": [
    {
     "name": "stdout",
     "output_type": "stream",
     "text": [
      "5\n"
     ]
    }
   ],
   "source": [
    "print(train_labels[0])"
   ]
  },
  {
   "cell_type": "markdown",
   "id": "d25a100f",
   "metadata": {},
   "source": [
    "Przed stworzeniem sieci należy je przekonwertowć, tak by sieć zrozumiała prawidłową odpowiedź.                                 \n",
    "W tym celu zmieniamy dane integer na kategoryczne(one-hot encoding):"
   ]
  },
  {
   "cell_type": "code",
   "execution_count": 14,
   "id": "901469e7",
   "metadata": {
    "scrolled": false
   },
   "outputs": [
    {
     "name": "stdout",
     "output_type": "stream",
     "text": [
      "[0. 0. 0. 0. 0. 1. 0. 0. 0. 0.]\n"
     ]
    }
   ],
   "source": [
    "train_labels = tf.keras.utils.to_categorical(train_labels)\n",
    "test_labels = tf.keras.utils.to_categorical(test_labels)\n",
    "print(train_labels[0])"
   ]
  },
  {
   "cell_type": "markdown",
   "id": "f131652a",
   "metadata": {},
   "source": [
    "### Modele sieci neuronowych\n",
    "#### Model prostej sieci jednokierunkowej:"
   ]
  },
  {
   "cell_type": "code",
   "execution_count": 16,
   "id": "43011f86",
   "metadata": {},
   "outputs": [],
   "source": [
    "model = models.Sequential()\n",
    "model.add(Flatten())\n",
    "model.add(Dense(64, activation='relu'))\n",
    "model.add(Dense(10, activation='softmax'))"
   ]
  },
  {
   "cell_type": "markdown",
   "id": "1e58d573",
   "metadata": {},
   "source": [
    "- Tworzymy model sekwencyjny - standardowy model sieci wielowarstwowej w bibliotece TensorFlow.                             \n",
    "- Funkcja Flatten() odpowiada za stworzenie wastwy wejsciowej o wielkości 28x28=784 neuronów.                                  \n",
    "- Następnie dodajemy jedną warstwę ukrytą o wielkości 64 neuronów. Korzystyma z fukcji aktywacji RELU (x dla x>=0 i 0 dla x<0).\n",
    "- Warstwa wyjściowa składa się z 10 neuronów reprezentujących możliwe rozwiązania (od 0 do 9). Funkcja aktywacji SOTFMAX\n",
    "\n",
    "Po stworzeniu architektury sieci musimy ustawić jej parametry:                                                \n",
    "- Wybieramy optimazer, czyli algorytm odpowiedzialny za uczenie sieci (aktualizacje wag) - w tym przypadku \"Adam\"\n",
    "- Wybieramy funkcje błędu, czyli funkcję opisującą jakość naszej sieci w trakcie kolejnych iteracji uczenia. Algorytm             optymalizujący dąży do zmniejszenia jej wielkości poprzez zmianę wag - w tym przypadku wybieramy \"Categorical_crossentropy\"\n",
    "- Wybieramy rodzaj metryki, czyli funckji oceniającej kiedy sieć odpowiedziała prawidłowo - tutaj \"Accucary\""
   ]
  },
  {
   "cell_type": "code",
   "execution_count": null,
   "id": "c11349f3",
   "metadata": {},
   "outputs": [],
   "source": [
    "model.compile(optimizer='adam',\n",
    "              loss='categorical_crossentropy',\n",
    "              metrics=['accuracy'])"
   ]
  },
  {
   "cell_type": "markdown",
   "id": "80b5b72c",
   "metadata": {},
   "source": [
    "###### Uczenie sieci\n",
    "- dobieramy parametr epochs - liczbę powtórzeń uczenia całym zbiorem danych treningowych\n",
    "- ustawiamy batch_size, czyli liczbę próbek podawanych jednocześnie, po których następuje aktualizacja wag sieci."
   ]
  },
  {
   "cell_type": "code",
   "execution_count": 18,
   "id": "21f6f177",
   "metadata": {},
   "outputs": [
    {
     "name": "stdout",
     "output_type": "stream",
     "text": [
      "Epoch 1/5\n",
      "938/938 [==============================] - 1s 1ms/step - loss: 0.3551 - accuracy: 0.9011\n",
      "Epoch 2/5\n",
      "938/938 [==============================] - 1s 1ms/step - loss: 0.1695 - accuracy: 0.9512\n",
      "Epoch 3/5\n",
      "938/938 [==============================] - 1s 1ms/step - loss: 0.1255 - accuracy: 0.9639\n",
      "Epoch 4/5\n",
      "938/938 [==============================] - 1s 1ms/step - loss: 0.1006 - accuracy: 0.9705\n",
      "Epoch 5/5\n",
      "938/938 [==============================] - 1s 1ms/step - loss: 0.0835 - accuracy: 0.9756\n"
     ]
    },
    {
     "data": {
      "text/plain": [
       "<keras.callbacks.History at 0x181f0743f40>"
      ]
     },
     "execution_count": 18,
     "metadata": {},
     "output_type": "execute_result"
    }
   ],
   "source": [
    "model.fit(train_images, train_labels, epochs=5, batch_size=64)"
   ]
  },
  {
   "cell_type": "markdown",
   "id": "e91c865a",
   "metadata": {},
   "source": [
    "###### Ostatni krok to sprawdzenie dokładności sieci na testowym zbiorze danych:"
   ]
  },
  {
   "cell_type": "code",
   "execution_count": 19,
   "id": "44eb21f0",
   "metadata": {},
   "outputs": [
    {
     "name": "stdout",
     "output_type": "stream",
     "text": [
      "313/313 [==============================] - 0s 858us/step - loss: 0.0967 - accuracy: 0.9707\n",
      "Test loss: 0.09671694040298462\n",
      "Test accuracy: 0.9707000255584717\n"
     ]
    }
   ],
   "source": [
    "score = model.evaluate(test_images, test_labels)\n",
    "print('Test loss:', score[0])\n",
    "print('Test accuracy:', score[1])"
   ]
  },
  {
   "cell_type": "markdown",
   "id": "926e395f",
   "metadata": {},
   "source": [
    "#### Model sieci konwolucyjnej:"
   ]
  },
  {
   "cell_type": "code",
   "execution_count": 20,
   "id": "0073cb4e",
   "metadata": {},
   "outputs": [],
   "source": [
    "from keras.layers import Conv2D, MaxPooling2D"
   ]
  },
  {
   "cell_type": "code",
   "execution_count": 21,
   "id": "70d0cfb0",
   "metadata": {},
   "outputs": [],
   "source": [
    "model = models.Sequential()\n",
    "model.add(Conv2D(32, (3, 3), activation='relu', input_shape=(28, 28, 1)))\n",
    "model.add(MaxPooling2D((2, 2)))\n",
    "model.add(Conv2D(64, (3, 3), activation='relu'))\n",
    "model.add(MaxPooling2D((2, 2)))\n",
    "model.add(Conv2D(64, (3, 3), activation='relu'))"
   ]
  },
  {
   "cell_type": "markdown",
   "id": "a1997071",
   "metadata": {},
   "source": [
    "Pojedyńczy obraz 28x28 pikseli przeszedł transformację za pomocą:\n",
    "- trzykrotnego filtrowania oknem 3x3\n",
    "- dwukrotnego MaxPoolingu o rozmiarze okna 2x2\n",
    "\n",
    "Ostatecznie przybrał postać 64 różnych macierzy o rozmiarze 3x3 piksele, co w efekcie daje 3x3x64=576 neuronów w warstwie wejściowej."
   ]
  },
  {
   "cell_type": "code",
   "execution_count": 22,
   "id": "79456ab0",
   "metadata": {},
   "outputs": [
    {
     "name": "stdout",
     "output_type": "stream",
     "text": [
      "Epoch 1/5\n",
      "938/938 [==============================] - 18s 19ms/step - loss: 0.1938 - accuracy: 0.9401\n",
      "Epoch 2/5\n",
      "938/938 [==============================] - 21s 23ms/step - loss: 0.0533 - accuracy: 0.9837\n",
      "Epoch 3/5\n",
      "938/938 [==============================] - 17s 19ms/step - loss: 0.0359 - accuracy: 0.9891\n",
      "Epoch 4/5\n",
      "938/938 [==============================] - 18s 19ms/step - loss: 0.0304 - accuracy: 0.9901\n",
      "Epoch 5/5\n",
      "938/938 [==============================] - 18s 19ms/step - loss: 0.0245 - accuracy: 0.9920\n"
     ]
    },
    {
     "data": {
      "text/plain": [
       "<keras.callbacks.History at 0x1818ca0f730>"
      ]
     },
     "execution_count": 22,
     "metadata": {},
     "output_type": "execute_result"
    }
   ],
   "source": [
    "model.add(Flatten())\n",
    "model.add(Dense(64, activation='relu'))\n",
    "model.add(Dense(10, activation='softmax'))\n",
    "model.compile(optimizer='adam',\n",
    "              loss='categorical_crossentropy',\n",
    "              metrics=['accuracy'])\n",
    "model.fit(train_images, train_labels, epochs=5, batch_size=64)"
   ]
  },
  {
   "cell_type": "code",
   "execution_count": 23,
   "id": "56184845",
   "metadata": {},
   "outputs": [
    {
     "name": "stdout",
     "output_type": "stream",
     "text": [
      "313/313 [==============================] - 1s 3ms/step - loss: 0.0341 - accuracy: 0.9891\n",
      "Test loss: 0.034103937447071075\n",
      "Test accuracy: 0.9890999794006348\n"
     ]
    }
   ],
   "source": [
    "score = model.evaluate(test_images, test_labels)\n",
    "print('Test loss:', score[0])\n",
    "print('Test accuracy:', score[1])"
   ]
  },
  {
   "cell_type": "markdown",
   "id": "11dc4737",
   "metadata": {},
   "source": [
    "W efekcie otrzymaliśmy przeskok do 99% skuteczności przy identycznej architekturze warstw ukrytych.\n",
    "#### Model sieci konwolucyjnej z dropoutem"
   ]
  },
  {
   "cell_type": "code",
   "execution_count": 27,
   "id": "89fffffb",
   "metadata": {},
   "outputs": [],
   "source": [
    "from keras.layers import Dropout"
   ]
  },
  {
   "cell_type": "code",
   "execution_count": 28,
   "id": "84ff0edd",
   "metadata": {},
   "outputs": [
    {
     "name": "stdout",
     "output_type": "stream",
     "text": [
      "Epoch 1/5\n",
      "938/938 [==============================] - 126s 134ms/step - loss: 0.1980 - accuracy: 0.9389\n",
      "Epoch 2/5\n",
      "938/938 [==============================] - 132s 141ms/step - loss: 0.0749 - accuracy: 0.9783\n",
      "Epoch 3/5\n",
      "938/938 [==============================] - 127s 136ms/step - loss: 0.0544 - accuracy: 0.9838\n",
      "Epoch 4/5\n",
      "938/938 [==============================] - 127s 136ms/step - loss: 0.0470 - accuracy: 0.9856\n",
      "Epoch 5/5\n",
      "938/938 [==============================] - 126s 135ms/step - loss: 0.0411 - accuracy: 0.9880\n"
     ]
    },
    {
     "data": {
      "text/plain": [
       "<keras.callbacks.History at 0x18180ff5a80>"
      ]
     },
     "execution_count": 28,
     "metadata": {},
     "output_type": "execute_result"
    }
   ],
   "source": [
    "model = models.Sequential() \n",
    "input_shape=(28,28,1)\n",
    "model.add(Conv2D(64, kernel_size=(3, 3), activation='relu', input_shape=input_shape))\n",
    "model.add(Conv2D(128, (3, 3), activation='relu')) \n",
    "model.add(MaxPooling2D(pool_size=(2, 2)))\n",
    "model.add(Dropout(0.25))\n",
    "model.add(Conv2D(128, (3, 3), activation='relu'))\n",
    "model.add(MaxPooling2D(pool_size=(2, 2)))\n",
    "model.add(Dropout(0.25))\n",
    "model.add(Flatten())\n",
    "model.add(Dense(128, activation='relu',kernel_initializer='he_normal'))\n",
    "model.add(Dropout(0.5))\n",
    "model.add(Dense(10, activation='softmax'))\n",
    "model.compile(optimizer='adam', \n",
    "              loss='categorical_crossentropy', \n",
    "              metrics=['accuracy']) \n",
    "model.fit(train_images, train_labels, epochs=5, batch_size=64)"
   ]
  },
  {
   "cell_type": "code",
   "execution_count": 29,
   "id": "45fc95fd",
   "metadata": {},
   "outputs": [
    {
     "name": "stdout",
     "output_type": "stream",
     "text": [
      "313/313 [==============================] - 12s 36ms/step - loss: 0.0197 - accuracy: 0.9938\n",
      "Test loss: 0.019674547016620636\n",
      "Test accuracy: 0.9937999844551086\n"
     ]
    }
   ],
   "source": [
    "score = model.evaluate(test_images, test_labels)\n",
    "print('Test loss:', score[0])\n",
    "print('Test accuracy:', score[1])"
   ]
  },
  {
   "cell_type": "code",
   "execution_count": null,
   "id": "f2a31014",
   "metadata": {},
   "outputs": [],
   "source": []
  }
 ],
 "metadata": {
  "kernelspec": {
   "display_name": "Python 3 (ipykernel)",
   "language": "python",
   "name": "python3"
  },
  "language_info": {
   "codemirror_mode": {
    "name": "ipython",
    "version": 3
   },
   "file_extension": ".py",
   "mimetype": "text/x-python",
   "name": "python",
   "nbconvert_exporter": "python",
   "pygments_lexer": "ipython3",
   "version": "3.10.0"
  }
 },
 "nbformat": 4,
 "nbformat_minor": 5
}
